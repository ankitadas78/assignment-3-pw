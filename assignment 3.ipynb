{
 "cells": [
  {
   "cell_type": "markdown",
   "id": "c4f5188c-0bbe-4eeb-b2db-9947a9b27d24",
   "metadata": {},
   "source": [
    "ques 1_ which keyword is used to create a function?create a function to return of odd numbers in the range of 1 to 25.\n",
    "ANS - def keyword is used to create a function"
   ]
  },
  {
   "cell_type": "code",
   "execution_count": 1,
   "id": "7e4db824-c882-4165-b6e2-83861a9676ff",
   "metadata": {},
   "outputs": [
    {
     "data": {
      "text/plain": [
       "range(1, 25)"
      ]
     },
     "execution_count": 1,
     "metadata": {},
     "output_type": "execute_result"
    }
   ],
   "source": [
    "range(1,25)"
   ]
  },
  {
   "cell_type": "code",
   "execution_count": 20,
   "id": "baf8296c-805c-429a-bf37-afedd155b0a4",
   "metadata": {},
   "outputs": [
    {
     "name": "stdout",
     "output_type": "stream",
     "text": [
      "1\n",
      "2\n",
      "3\n",
      "4\n",
      "5\n",
      "6\n",
      "7\n",
      "8\n",
      "9\n",
      "10\n",
      "11\n",
      "12\n",
      "13\n",
      "14\n",
      "15\n",
      "16\n",
      "17\n",
      "18\n",
      "19\n",
      "20\n",
      "21\n",
      "22\n",
      "23\n",
      "24\n"
     ]
    }
   ],
   "source": [
    "for i in range(1,25):\n",
    "    print(i)"
   ]
  },
  {
   "cell_type": "code",
   "execution_count": 30,
   "id": "5eaff051-0afc-432f-beaf-0b03bec9898f",
   "metadata": {},
   "outputs": [],
   "source": [
    "l = list(range(1,25))"
   ]
  },
  {
   "cell_type": "code",
   "execution_count": 31,
   "id": "d9cdb8e2-e1cc-434d-8d73-2ee6d0580db1",
   "metadata": {},
   "outputs": [
    {
     "data": {
      "text/plain": [
       "[1,\n",
       " 2,\n",
       " 3,\n",
       " 4,\n",
       " 5,\n",
       " 6,\n",
       " 7,\n",
       " 8,\n",
       " 9,\n",
       " 10,\n",
       " 11,\n",
       " 12,\n",
       " 13,\n",
       " 14,\n",
       " 15,\n",
       " 16,\n",
       " 17,\n",
       " 18,\n",
       " 19,\n",
       " 20,\n",
       " 21,\n",
       " 22,\n",
       " 23,\n",
       " 24]"
      ]
     },
     "execution_count": 31,
     "metadata": {},
     "output_type": "execute_result"
    }
   ],
   "source": [
    "l"
   ]
  },
  {
   "cell_type": "code",
   "execution_count": 47,
   "id": "bf7d7900-481d-44f7-b4d1-b268fe5f04d7",
   "metadata": {},
   "outputs": [],
   "source": [
    "def odd(l):\n",
    "    for i in l:\n",
    "        if i%2!=0:\n",
    "            print(i)"
   ]
  },
  {
   "cell_type": "code",
   "execution_count": 48,
   "id": "2203b017-a740-4a51-8eca-372222fe9008",
   "metadata": {},
   "outputs": [
    {
     "name": "stdout",
     "output_type": "stream",
     "text": [
      "1\n",
      "3\n",
      "5\n",
      "7\n",
      "9\n",
      "11\n",
      "13\n",
      "15\n",
      "17\n",
      "19\n",
      "21\n",
      "23\n"
     ]
    }
   ],
   "source": [
    "odd(l)"
   ]
  },
  {
   "cell_type": "markdown",
   "id": "3d0409d9-db0c-411e-93ee-9ec4568fb574",
   "metadata": {},
   "source": [
    "ques 2_ why arga and kwargs is used in some functions? create a function each for args and kwargs to demonstrate their use\n",
    "ANS - *args = multiple number of input pass in function\n",
    "     **kwargs = indicate a dictonary"
   ]
  },
  {
   "cell_type": "code",
   "execution_count": 49,
   "id": "b3d43316-ebe7-4247-b7d0-e7c1976384f2",
   "metadata": {},
   "outputs": [],
   "source": [
    "def test1(*args):\n",
    "    return args"
   ]
  },
  {
   "cell_type": "code",
   "execution_count": 51,
   "id": "c11b6a09-a046-4d72-82f4-5bfcdb6a1839",
   "metadata": {},
   "outputs": [
    {
     "data": {
      "text/plain": [
       "tuple"
      ]
     },
     "execution_count": 51,
     "metadata": {},
     "output_type": "execute_result"
    }
   ],
   "source": [
    "type(test1())"
   ]
  },
  {
   "cell_type": "code",
   "execution_count": 52,
   "id": "895506f6-1cba-4044-aa07-6f64b7185e9a",
   "metadata": {},
   "outputs": [
    {
     "data": {
      "text/plain": [
       "(1, 2, 3, 5, 'ankita', 'das', True, 37.9, False, [6, 8, 89, 30, 3])"
      ]
     },
     "execution_count": 52,
     "metadata": {},
     "output_type": "execute_result"
    }
   ],
   "source": [
    "test1(1,2,3,5,\"ankita\",\"das\",True,37.9,False,[6,8,89,30,3])"
   ]
  },
  {
   "cell_type": "code",
   "execution_count": 54,
   "id": "680a40c8-ce68-4525-abce-ffb75b87db44",
   "metadata": {},
   "outputs": [],
   "source": [
    "def test2(**kwargs):\n",
    "    return kwargs"
   ]
  },
  {
   "cell_type": "code",
   "execution_count": 55,
   "id": "ca0b1e9e-5d64-44d7-bcdb-d663c7aa4d7f",
   "metadata": {},
   "outputs": [
    {
     "data": {
      "text/plain": [
       "dict"
      ]
     },
     "execution_count": 55,
     "metadata": {},
     "output_type": "execute_result"
    }
   ],
   "source": [
    "type(test2())"
   ]
  },
  {
   "cell_type": "code",
   "execution_count": 56,
   "id": "8a6090aa-bc50-46cc-8fc3-07c6617b2af6",
   "metadata": {},
   "outputs": [
    {
     "data": {
      "text/plain": [
       "{'course': 'data science', 'platform': 'pwskills', 'time': [7, 8, 9]}"
      ]
     },
     "execution_count": 56,
     "metadata": {},
     "output_type": "execute_result"
    }
   ],
   "source": [
    "test2(course = \"data science\", platform =\"pwskills\",time =[7,8,9])"
   ]
  },
  {
   "cell_type": "markdown",
   "id": "d9563e47-196e-4e27-9a77-0abb011ae765",
   "metadata": {},
   "source": [
    "ques 3_what is the iterator in python?name the method used to initialise the iterator object and the method used for iteration.use these methods to print the first five elements of the given list [2,4,6,8,10,12,14,16,18,20]"
   ]
  },
  {
   "cell_type": "code",
   "execution_count": 57,
   "id": "c569fed7-654d-41bf-8b0c-7ce5fb68b9b4",
   "metadata": {},
   "outputs": [
    {
     "name": "stdout",
     "output_type": "stream",
     "text": [
      "a\n",
      "n\n",
      "k\n",
      "i\n",
      "t\n",
      "a\n"
     ]
    }
   ],
   "source": [
    "#an object that contains a countable number of elements that can be iterated upon.ex-string\n",
    "##method used for itereation = iter(),next()\n",
    "\n",
    "s =\"ankita\"\n",
    "for i in s:\n",
    "    print(i)"
   ]
  },
  {
   "cell_type": "code",
   "execution_count": 58,
   "id": "64c042ed-bba6-47c4-acf3-b849cdd2c968",
   "metadata": {},
   "outputs": [
    {
     "ename": "TypeError",
     "evalue": "'str' object is not an iterator",
     "output_type": "error",
     "traceback": [
      "\u001b[0;31m---------------------------------------------------------------------------\u001b[0m",
      "\u001b[0;31mTypeError\u001b[0m                                 Traceback (most recent call last)",
      "Cell \u001b[0;32mIn[58], line 1\u001b[0m\n\u001b[0;32m----> 1\u001b[0m \u001b[38;5;28;43mnext\u001b[39;49m\u001b[43m(\u001b[49m\u001b[43ms\u001b[49m\u001b[43m)\u001b[49m\n",
      "\u001b[0;31mTypeError\u001b[0m: 'str' object is not an iterator"
     ]
    }
   ],
   "source": [
    "next(s)"
   ]
  },
  {
   "cell_type": "code",
   "execution_count": 59,
   "id": "50023f5c-e97a-4afd-864c-f7732de95e91",
   "metadata": {},
   "outputs": [],
   "source": [
    "s1=iter(s)"
   ]
  },
  {
   "cell_type": "code",
   "execution_count": 60,
   "id": "df2d9cd6-3b0b-4d13-9c7c-598a4007bfcd",
   "metadata": {},
   "outputs": [
    {
     "data": {
      "text/plain": [
       "'a'"
      ]
     },
     "execution_count": 60,
     "metadata": {},
     "output_type": "execute_result"
    }
   ],
   "source": [
    "next(s1)"
   ]
  },
  {
   "cell_type": "code",
   "execution_count": 61,
   "id": "3c82aff6-f3ef-4244-a602-ae440502c6c9",
   "metadata": {},
   "outputs": [
    {
     "data": {
      "text/plain": [
       "'n'"
      ]
     },
     "execution_count": 61,
     "metadata": {},
     "output_type": "execute_result"
    }
   ],
   "source": [
    "next(s1)"
   ]
  },
  {
   "cell_type": "code",
   "execution_count": 62,
   "id": "fd9a69d1-1634-4451-ab0e-2133292c3abc",
   "metadata": {},
   "outputs": [
    {
     "data": {
      "text/plain": [
       "'k'"
      ]
     },
     "execution_count": 62,
     "metadata": {},
     "output_type": "execute_result"
    }
   ],
   "source": [
    "next(s1)"
   ]
  },
  {
   "cell_type": "code",
   "execution_count": 63,
   "id": "bf5933a5-5dda-40b2-b5a3-32bf7424d95c",
   "metadata": {},
   "outputs": [
    {
     "data": {
      "text/plain": [
       "'i'"
      ]
     },
     "execution_count": 63,
     "metadata": {},
     "output_type": "execute_result"
    }
   ],
   "source": [
    "next(s1)"
   ]
  },
  {
   "cell_type": "code",
   "execution_count": 64,
   "id": "bc8353a5-2ac5-48e7-a2c6-28f5ad41db73",
   "metadata": {},
   "outputs": [
    {
     "data": {
      "text/plain": [
       "'t'"
      ]
     },
     "execution_count": 64,
     "metadata": {},
     "output_type": "execute_result"
    }
   ],
   "source": [
    "next(s1)"
   ]
  },
  {
   "cell_type": "code",
   "execution_count": 65,
   "id": "0cf341b8-59aa-44c1-aa58-9533ce2e5ee6",
   "metadata": {},
   "outputs": [
    {
     "data": {
      "text/plain": [
       "'a'"
      ]
     },
     "execution_count": 65,
     "metadata": {},
     "output_type": "execute_result"
    }
   ],
   "source": [
    "next(s1)"
   ]
  },
  {
   "cell_type": "code",
   "execution_count": 67,
   "id": "6c56e7d7-00e7-418c-86fb-7c6ddc03d1ad",
   "metadata": {},
   "outputs": [],
   "source": [
    "l5=[2,4,6,8,10,12,14,16,18,20]"
   ]
  },
  {
   "cell_type": "code",
   "execution_count": 72,
   "id": "17a71cda-4164-4391-acd3-12c74b0a8028",
   "metadata": {},
   "outputs": [
    {
     "name": "stdout",
     "output_type": "stream",
     "text": [
      "2\n",
      "4\n",
      "6\n",
      "8\n",
      "10\n"
     ]
    }
   ],
   "source": [
    "s2 = iter(l5)\n",
    "print(next(s2))\n",
    "print(next(s2))\n",
    "print(next(s2))\n",
    "print(next(s2))\n",
    "print(next(s2))\n"
   ]
  },
  {
   "cell_type": "markdown",
   "id": "71ff7e44-8b14-4a15-9212-a31a42df6c60",
   "metadata": {},
   "source": [
    "ques 4_what is a generator function i python? why yeild keyword is used? give an example of a generator function."
   ]
  },
  {
   "cell_type": "code",
   "execution_count": 1,
   "id": "f67acf69-425a-4b15-b608-f9bee5874e13",
   "metadata": {},
   "outputs": [
    {
     "data": {
      "text/plain": [
       "range(0, 10)"
      ]
     },
     "execution_count": 1,
     "metadata": {},
     "output_type": "execute_result"
    }
   ],
   "source": [
    "#generator function is a special type of function but it is created for a different objectives,it allows to declare a function that behaves like an iterator and providing a faster and easier way to create iteratiors.\n",
    "## yeild keyword is used to create a generator function.\n",
    "###example\n",
    "\n",
    "range(10)"
   ]
  },
  {
   "cell_type": "code",
   "execution_count": 3,
   "id": "459602e4-ede9-4e8b-9758-efe225cb43f8",
   "metadata": {},
   "outputs": [
    {
     "name": "stdout",
     "output_type": "stream",
     "text": [
      "0\n",
      "1\n",
      "2\n",
      "3\n",
      "4\n",
      "5\n",
      "6\n",
      "7\n",
      "8\n",
      "9\n"
     ]
    }
   ],
   "source": [
    "for i in range(10):\n",
    "    print(i)"
   ]
  },
  {
   "cell_type": "code",
   "execution_count": 5,
   "id": "859fea0a-aa79-43f9-9d6c-142bdadce294",
   "metadata": {},
   "outputs": [],
   "source": [
    "def test_fib(n):\n",
    "    a,b=0,1\n",
    "    for i in range(n):\n",
    "        yield a\n",
    "        a,b=b,a+b"
   ]
  },
  {
   "cell_type": "code",
   "execution_count": 6,
   "id": "5cd19c87-82e7-4bfe-898a-443a4f28d10d",
   "metadata": {},
   "outputs": [
    {
     "data": {
      "text/plain": [
       "<generator object test_fib at 0x7f84f860e9d0>"
      ]
     },
     "execution_count": 6,
     "metadata": {},
     "output_type": "execute_result"
    }
   ],
   "source": [
    "test_fib(10)"
   ]
  },
  {
   "cell_type": "code",
   "execution_count": 7,
   "id": "329d37b4-a0c2-4e58-9bd2-8c4143d78d64",
   "metadata": {},
   "outputs": [
    {
     "name": "stdout",
     "output_type": "stream",
     "text": [
      "0\n",
      "1\n",
      "1\n",
      "2\n",
      "3\n",
      "5\n",
      "8\n",
      "13\n",
      "21\n",
      "34\n"
     ]
    }
   ],
   "source": [
    "for i in test_fib(10):\n",
    "    print(i)"
   ]
  },
  {
   "cell_type": "code",
   "execution_count": 8,
   "id": "38f185b8-1335-4878-bfa3-2d11e547a330",
   "metadata": {},
   "outputs": [],
   "source": [
    "def test_fib(x):\n",
    "    p,q=2,4\n",
    "    for i in range(x):\n",
    "        yield p\n",
    "        p,q=q,p+q"
   ]
  },
  {
   "cell_type": "code",
   "execution_count": 9,
   "id": "d984ff84-ae24-4414-b3a8-34bb3b62cff0",
   "metadata": {},
   "outputs": [
    {
     "name": "stdout",
     "output_type": "stream",
     "text": [
      "2\n",
      "4\n",
      "6\n",
      "10\n",
      "16\n",
      "26\n",
      "42\n",
      "68\n"
     ]
    }
   ],
   "source": [
    "for i in test_fib(8):\n",
    "    print(i)"
   ]
  },
  {
   "cell_type": "markdown",
   "id": "0ec5fe5b-27ea-4893-b0bb-45e6c1fe9210",
   "metadata": {},
   "source": [
    "ques 5_create a generator function for prime numbers less than 1000.use the next() method to print the first 20 prime numbers."
   ]
  },
  {
   "cell_type": "code",
   "execution_count": 13,
   "id": "68b41a5e-5582-4040-ad02-8f55df6f54f5",
   "metadata": {},
   "outputs": [],
   "source": [
    "def prime():\n",
    "    for i in range(1000):\n",
    "        for num in range(2,i):\n",
    "            if i % num == 0:\n",
    "                break\n",
    "        else:\n",
    "            yield i"
   ]
  },
  {
   "cell_type": "code",
   "execution_count": 14,
   "id": "c2835246-b940-4c41-8be9-0fa529862eba",
   "metadata": {},
   "outputs": [
    {
     "name": "stdout",
     "output_type": "stream",
     "text": [
      "0 1 2 3 5 7 11 13 17 19 23 29 31 37 41 43 47 53 59 61 67 71 73 79 83 89 97 101 103 107 109 113 127 131 137 139 149 151 157 163 167 173 179 181 191 193 197 199 211 223 227 229 233 239 241 251 257 263 269 271 277 281 283 293 307 311 313 317 331 337 347 349 353 359 367 373 379 383 389 397 401 409 419 421 431 433 439 443 449 457 461 463 467 479 487 491 499 503 509 521 523 541 547 557 563 569 571 577 587 593 599 601 607 613 617 619 631 641 643 647 653 659 661 673 677 683 691 701 709 719 727 733 739 743 751 757 761 769 773 787 797 809 811 821 823 827 829 839 853 857 859 863 877 881 883 887 907 911 919 929 937 941 947 953 967 971 977 983 991 997 "
     ]
    }
   ],
   "source": [
    "for i in prime():\n",
    "    print(i, end=\" \")"
   ]
  },
  {
   "cell_type": "markdown",
   "id": "5311596d-1928-4955-b5a2-e95c45fe103b",
   "metadata": {},
   "source": [
    "def nextprime():\n",
    "    for i in range(20):\n",
    "        for num in range(2,i):\n",
    "            if i % num==0:\n",
    "                break\n",
    "        else:\n",
    "            yield i"
   ]
  },
  {
   "cell_type": "code",
   "execution_count": 10,
   "id": "9ff344f8-19a3-4538-8774-8f217a6f5ee1",
   "metadata": {},
   "outputs": [
    {
     "name": "stdout",
     "output_type": "stream",
     "text": [
      "0 1 2 3 5 7 11 13 17 19 "
     ]
    }
   ],
   "source": [
    "for i in nextprime():\n",
    "    print(i,end=\" \")"
   ]
  },
  {
   "cell_type": "markdown",
   "id": "3343b2b4-1943-42dd-9724-edbcf7fd64f4",
   "metadata": {},
   "source": [
    "ques 6_write a python programme to print 1st 10 fibonacci numbers using a while loop"
   ]
  },
  {
   "cell_type": "code",
   "execution_count": 15,
   "id": "41c30fc9-ffa8-418b-9a9d-0e0be14dabf8",
   "metadata": {},
   "outputs": [],
   "source": [
    "def test_fib():\n",
    "    a,b = 0,1\n",
    "    while True:\n",
    "        yield a\n",
    "        a,b=b,a+b\n",
    "    "
   ]
  },
  {
   "cell_type": "code",
   "execution_count": 16,
   "id": "c29e2bfb-eb8e-4d3c-9dc6-81dae85640b2",
   "metadata": {},
   "outputs": [],
   "source": [
    "fib=test_fib()"
   ]
  },
  {
   "cell_type": "code",
   "execution_count": 17,
   "id": "f37c1356-61f4-4344-91fa-fd3f36231c80",
   "metadata": {},
   "outputs": [
    {
     "name": "stdout",
     "output_type": "stream",
     "text": [
      "0\n",
      "1\n",
      "1\n",
      "2\n",
      "3\n",
      "5\n",
      "8\n",
      "13\n",
      "21\n",
      "34\n"
     ]
    }
   ],
   "source": [
    "for i in range(10):\n",
    "    print(next(fib))"
   ]
  },
  {
   "cell_type": "markdown",
   "id": "7407bc39-a388-4c6a-9254-e2159b968dd3",
   "metadata": {},
   "source": [
    "ques 7_write a list comprehension to iterate through the given string : \"pwskills\""
   ]
  },
  {
   "cell_type": "code",
   "execution_count": 31,
   "id": "c465a3ee-ffbf-4fc7-bcb1-0fac16eb0478",
   "metadata": {},
   "outputs": [],
   "source": [
    "r = \"pwskills\""
   ]
  },
  {
   "cell_type": "code",
   "execution_count": 34,
   "id": "c1e59e1c-2b2e-4eb9-8c47-09452903d95d",
   "metadata": {},
   "outputs": [
    {
     "name": "stdout",
     "output_type": "stream",
     "text": [
      "['p', 'w', 's', 'k', 'i', 'l', 'l', 's']\n"
     ]
    }
   ],
   "source": [
    "r1 = iter(r)\n",
    "print(list(r1))"
   ]
  },
  {
   "cell_type": "markdown",
   "id": "5d793c5d-da3a-49b1-8df2-f61d0e352e1b",
   "metadata": {},
   "source": [
    "ques 8_ write a python programme to check whether a given number is pallindrome or not using a while loop."
   ]
  },
  {
   "cell_type": "code",
   "execution_count": 36,
   "id": "caff8b93-7830-4df9-bfaa-455b2a157bf0",
   "metadata": {},
   "outputs": [
    {
     "name": "stdout",
     "output_type": "stream",
     "text": [
      "palindrome\n"
     ]
    }
   ],
   "source": [
    "num = 123321\n",
    "reverse = int(str(num)[::-1])\n",
    "\n",
    "if num == reverse:\n",
    "    print('palindrome')\n",
    "else:\n",
    "    print('not using a while loop')"
   ]
  },
  {
   "cell_type": "markdown",
   "id": "5ee80c02-f4ed-48f2-8308-c0389dfa9bc8",
   "metadata": {},
   "source": [
    "ques 9_write a code to print odd numbers from 1 to 100 using a list comprehension"
   ]
  },
  {
   "cell_type": "code",
   "execution_count": 50,
   "id": "a2b56f70-e24f-4e84-92a2-f1f4ecafad02",
   "metadata": {},
   "outputs": [],
   "source": [
    "def test_odd():\n",
    "    l=[]\n",
    "    for i in list(range(1,100)):\n",
    "        if i%2!=0:\n",
    "            l.append(i)\n",
    "            print(i)"
   ]
  },
  {
   "cell_type": "code",
   "execution_count": 51,
   "id": "b0c7d818-8717-487c-81ce-da39c26862bd",
   "metadata": {},
   "outputs": [
    {
     "name": "stdout",
     "output_type": "stream",
     "text": [
      "1\n",
      "3\n",
      "5\n",
      "7\n",
      "9\n",
      "11\n",
      "13\n",
      "15\n",
      "17\n",
      "19\n",
      "21\n",
      "23\n",
      "25\n",
      "27\n",
      "29\n",
      "31\n",
      "33\n",
      "35\n",
      "37\n",
      "39\n",
      "41\n",
      "43\n",
      "45\n",
      "47\n",
      "49\n",
      "51\n",
      "53\n",
      "55\n",
      "57\n",
      "59\n",
      "61\n",
      "63\n",
      "65\n",
      "67\n",
      "69\n",
      "71\n",
      "73\n",
      "75\n",
      "77\n",
      "79\n",
      "81\n",
      "83\n",
      "85\n",
      "87\n",
      "89\n",
      "91\n",
      "93\n",
      "95\n",
      "97\n",
      "99\n"
     ]
    }
   ],
   "source": [
    "test_odd()"
   ]
  },
  {
   "cell_type": "code",
   "execution_count": null,
   "id": "cfff2610-6409-4178-9b00-f7e0f1c39f1c",
   "metadata": {},
   "outputs": [],
   "source": []
  }
 ],
 "metadata": {
  "kernelspec": {
   "display_name": "Python 3 (ipykernel)",
   "language": "python",
   "name": "python3"
  },
  "language_info": {
   "codemirror_mode": {
    "name": "ipython",
    "version": 3
   },
   "file_extension": ".py",
   "mimetype": "text/x-python",
   "name": "python",
   "nbconvert_exporter": "python",
   "pygments_lexer": "ipython3",
   "version": "3.10.8"
  }
 },
 "nbformat": 4,
 "nbformat_minor": 5
}
